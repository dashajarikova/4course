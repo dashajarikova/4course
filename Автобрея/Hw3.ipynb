{
  "nbformat": 4,
  "nbformat_minor": 0,
  "metadata": {
    "colab": {
      "name": "Avtobreya_dz3.ipynb",
      "provenance": []
    },
    "kernelspec": {
      "name": "python3",
      "display_name": "Python 3"
    }
  },
  "cells": [
    {
      "cell_type": "markdown",
      "metadata": {
        "id": "4ASKjYU40gAp",
        "colab_type": "text"
      },
      "source": [
        "Беру лексему \"лук\". По словарю MAC берем значение 1 - \"Огородное растение сем. лилейных, овощ\". Значение 2 - \"Ручное оружие для метания стрел в виде дуги, стянутой тетивой\". Т.о. диагностические слова - овощ, зеленый; оружие, стрелять.\n",
        "Контексты из НКРЯ для 1:  \n",
        "а) Он мелко нарезал лук, морковь, чеснок, петрушку, салат ― все овощи, которые нашлись в холодильнике. \n",
        "\n",
        "б) На столе были разбросаны кучки зелёного лука и свежие огурцы.\n",
        "\n",
        "Для 2:\n",
        "\n",
        "а) Старшие стреляли птиц из самодельных луков.\n",
        "\n",
        "б) Излюбленный вид оружия всадника ― лук."
      ]
    },
    {
      "cell_type": "code",
      "metadata": {
        "id": "-2qsG-TFHtvh",
        "colab_type": "code",
        "colab": {}
      },
      "source": [
        "context1a = 'Он мелко нарезал лук, морковь, чеснок, петрушку, салат ― все овощи, которые нашлись в холодильнике'\n",
        "context1b = 'На столе были разбросаны кучки зелёного лука и свежие огурцы'\n",
        "context2a = 'Старшие стреляли птиц из самодельных луков'\n",
        "context2b = 'Излюбленный вид оружия всадника ― лук'"
      ],
      "execution_count": 0,
      "outputs": []
    },
    {
      "cell_type": "code",
      "metadata": {
        "id": "MKoXE54xQ3Pr",
        "colab_type": "code",
        "colab": {}
      },
      "source": [
        "tolk1 = 'Огородное растение семейство лилейных, овощ'\n",
        "tolk2 = 'Ручное оружие для метания стрел в виде дуги, стянутой тетивой'"
      ],
      "execution_count": 0,
      "outputs": []
    },
    {
      "cell_type": "code",
      "metadata": {
        "id": "WHAw666S8ZLw",
        "colab_type": "code",
        "colab": {}
      },
      "source": [
        "!pip install pymorphy2"
      ],
      "execution_count": 0,
      "outputs": []
    },
    {
      "cell_type": "code",
      "metadata": {
        "id": "I1WxZX1BNTdL",
        "colab_type": "code",
        "colab": {}
      },
      "source": [
        "!pip install pymystem3==0.1.10"
      ],
      "execution_count": 0,
      "outputs": []
    },
    {
      "cell_type": "code",
      "metadata": {
        "id": "Od6tMl__793q",
        "colab_type": "code",
        "colab": {}
      },
      "source": [
        "!pip install allennlp"
      ],
      "execution_count": 0,
      "outputs": []
    },
    {
      "cell_type": "code",
      "metadata": {
        "id": "Q9IETnqM48gK",
        "colab_type": "code",
        "colab": {}
      },
      "source": [
        "!pip install git+https://github.com/lopuhin/python-adagram.git"
      ],
      "execution_count": 0,
      "outputs": []
    },
    {
      "cell_type": "code",
      "metadata": {
        "id": "6dePhTDA7u4d",
        "colab_type": "code",
        "colab": {}
      },
      "source": [
        "!wget https://s3.amazonaws.com/kostia.lopuhin/all.a010.p10.d300.w5.m100.nonorm.slim.joblib"
      ],
      "execution_count": 0,
      "outputs": []
    },
    {
      "cell_type": "code",
      "metadata": {
        "id": "T2wVjpF80YCh",
        "colab_type": "code",
        "colab": {}
      },
      "source": [
        "import adagram\n",
        "from allennlp.commands.elmo import ElmoEmbedder\n",
        "import pandas as pd\n",
        "from lxml import html\n",
        "from nltk.tokenize import RegexpTokenizer\n",
        "from nltk.corpus import stopwords\n",
        "from pymorphy2 import MorphAnalyzer\n",
        "from pymystem3 import Mystem\n",
        "# from tqdm.notebook import tqdm\n",
        "from sklearn.metrics import adjusted_rand_score\n",
        "from sklearn.decomposition import PCA\n",
        "from sklearn.cluster import *\n",
        "from collections import Counter\n",
        "import numpy as np\n",
        "from matplotlib import pyplot as plt\n",
        "%matplotlib inline\n",
        "import warnings\n",
        "warnings.filterwarnings('ignore')\n",
        "\n",
        "\n",
        "morph = MorphAnalyzer()\n",
        "token = RegexpTokenizer('\\w+')\n",
        "# stops = set(stopwords.words('russian'))\n",
        "\n",
        "def normalize_pm(text):\n",
        "    words = [morph.parse(word)[0].normal_form for word in tokenize(text) if word]\n",
        "    return words\n",
        "\n",
        "def tokenize(text):\n",
        "    return token.tokenize(text)"
      ],
      "execution_count": 0,
      "outputs": []
    },
    {
      "cell_type": "code",
      "metadata": {
        "id": "RGwgeNKLEby3",
        "colab_type": "code",
        "colab": {}
      },
      "source": [
        "vm = adagram.VectorModel.load('all.a010.p10.d300.w5.m100.nonorm.slim.joblib')"
      ],
      "execution_count": 0,
      "outputs": []
    },
    {
      "cell_type": "code",
      "metadata": {
        "id": "x-Ne-J0aEf4m",
        "colab_type": "code",
        "colab": {
          "base_uri": "https://localhost:8080/",
          "height": 102
        },
        "outputId": "4d0b6a0a-77b0-430f-c345-a3e20355d13a"
      },
      "source": [
        "vm.word_sense_probs('вечер')"
      ],
      "execution_count": 10,
      "outputs": [
        {
          "output_type": "execute_result",
          "data": {
            "text/plain": [
              "[(0, 0.13080149644282904),\n",
              " (1, 0.21073024350994726),\n",
              " (2, 0.2956921249405029),\n",
              " (3, 0.14701596077005963),\n",
              " (4, 0.21575999977552957)]"
            ]
          },
          "metadata": {
            "tags": []
          },
          "execution_count": 10
        }
      ]
    },
    {
      "cell_type": "code",
      "metadata": {
        "id": "S_HatfybF41a",
        "colab_type": "code",
        "colab": {
          "base_uri": "https://localhost:8080/",
          "height": 102
        },
        "outputId": "c12e66b4-1628-4ed2-ecda-492b775e126b"
      },
      "source": [
        "vm.word_sense_probs('лук')"
      ],
      "execution_count": 11,
      "outputs": [
        {
          "output_type": "execute_result",
          "data": {
            "text/plain": [
              "[(0, 0.27467387333364635),\n",
              " (1, 0.17510064513645113),\n",
              " (2, 0.25182447428150506),\n",
              " (3, 0.0852764349918363),\n",
              " (4, 0.2131232975158767)]"
            ]
          },
          "metadata": {
            "tags": []
          },
          "execution_count": 11
        }
      ]
    },
    {
      "cell_type": "code",
      "metadata": {
        "id": "K_XTVuunG8EW",
        "colab_type": "code",
        "colab": {
          "base_uri": "https://localhost:8080/",
          "height": 187
        },
        "outputId": "8dd2277b-23cf-47c4-f923-f55e94a182bf"
      },
      "source": [
        "vm.sense_neighbors('лук', 0)"
      ],
      "execution_count": 12,
      "outputs": [
        {
          "output_type": "execute_result",
          "data": {
            "text/plain": [
              "[('морковь', 0, 0.8814602),\n",
              " ('помидор', 0, 0.879848),\n",
              " ('лук-порей', 0, 0.8786377),\n",
              " ('зелень', 0, 0.872901),\n",
              " ('нарезать', 0, 0.8665899),\n",
              " ('нашинковывать', 0, 0.86500126),\n",
              " ('сельдерей', 0, 0.86482704),\n",
              " ('петрушка', 0, 0.8591249),\n",
              " ('мелко', 0, 0.8526903),\n",
              " ('нарубать', 0, 0.85126823)]"
            ]
          },
          "metadata": {
            "tags": []
          },
          "execution_count": 12
        }
      ]
    },
    {
      "cell_type": "code",
      "metadata": {
        "id": "ScDDslAzEoP5",
        "colab_type": "code",
        "colab": {
          "base_uri": "https://localhost:8080/",
          "height": 187
        },
        "outputId": "36402ce8-64d5-47fd-b70d-2f49750c6e7a"
      },
      "source": [
        "vm.sense_neighbors('лук', 1)"
      ],
      "execution_count": 13,
      "outputs": [
        {
          "output_type": "execute_result",
          "data": {
            "text/plain": [
              "[('арбалет', 0, 0.7783164),\n",
              " ('дротик', 0, 0.6703703),\n",
              " ('пращ', 0, 0.6575549),\n",
              " ('самострел', 0, 0.64090955),\n",
              " ('мушкет', 0, 0.60409844),\n",
              " ('аркебуза', 0, 0.5913013),\n",
              " ('стрелять', 0, 0.5830755),\n",
              " ('дробовик', 0, 0.5742717),\n",
              " ('пневматический', 1, 0.5695134),\n",
              " ('аркебуз', 0, 0.56936765)]"
            ]
          },
          "metadata": {
            "tags": []
          },
          "execution_count": 13
        }
      ]
    },
    {
      "cell_type": "code",
      "metadata": {
        "id": "EFYui_l4RZOv",
        "colab_type": "code",
        "colab": {
          "base_uri": "https://localhost:8080/",
          "height": 187
        },
        "outputId": "4abb6222-e3b8-4532-9115-8454b0d0d74c"
      },
      "source": [
        "vm.sense_neighbors('лук', 3)"
      ],
      "execution_count": 24,
      "outputs": [
        {
          "output_type": "execute_result",
          "data": {
            "text/plain": [
              "[('лука', 1, 0.6011757),\n",
              " ('евангелист', 0, 0.54460436),\n",
              " ('иаков', 0, 0.5291651),\n",
              " ('лука', 2, 0.5226612),\n",
              " ('матфей', 1, 0.52241987),\n",
              " ('матфей', 0, 0.5201959),\n",
              " ('деяние', 1, 0.50425464),\n",
              " ('иоанн', 2, 0.50399673),\n",
              " ('апостол', 1, 0.49078336),\n",
              " ('ириней', 1, 0.49005806)]"
            ]
          },
          "metadata": {
            "tags": []
          },
          "execution_count": 24
        }
      ]
    },
    {
      "cell_type": "code",
      "metadata": {
        "id": "GHMmsX09Rb8x",
        "colab_type": "code",
        "colab": {
          "base_uri": "https://localhost:8080/",
          "height": 187
        },
        "outputId": "9fdf6ba9-e68c-4236-e99b-2967d0ade3c1"
      },
      "source": [
        "vm.sense_neighbors('лук', 4)"
      ],
      "execution_count": 26,
      "outputs": [
        {
          "output_type": "execute_result",
          "data": {
            "text/plain": [
              "[('лука', 0, 0.805669),\n",
              " ('арбалет', 1, 0.78230816),\n",
              " ('колчан', 0, 0.7731788),\n",
              " ('тетива', 0, 0.72229147),\n",
              " ('стрела', 0, 0.6901984),\n",
              " ('копье', 0, 0.68338805),\n",
              " ('самострел', 0, 0.67639554),\n",
              " ('копье', 1, 0.6679108),\n",
              " ('секира', 0, 0.6648324),\n",
              " ('палица', 0, 0.6603637)]"
            ]
          },
          "metadata": {
            "tags": []
          },
          "execution_count": 26
        }
      ]
    },
    {
      "cell_type": "code",
      "metadata": {
        "id": "YOPp1_GuHHI-",
        "colab_type": "code",
        "colab": {
          "base_uri": "https://localhost:8080/",
          "height": 54
        },
        "outputId": "a25245f2-6142-4d4e-a050-46ad05e9640b"
      },
      "source": [
        "mystem = Mystem()\n",
        "\n",
        "def disambiguate(model, word, context):\n",
        "    word, _ = lemmatized_context(word)\n",
        "    probs = model.disambiguate(word, lemmatized_context(context))\n",
        "    return 1 + probs.argmax()\n",
        "\n",
        "\n",
        "def lemmatized_context(s):\n",
        "    return [w.lower() for w in mystem.lemmatize(\" \".join(tokenize(s)))]"
      ],
      "execution_count": 14,
      "outputs": [
        {
          "output_type": "stream",
          "text": [
            "Installing mystem to /root/.local/bin/mystem from http://download.cdn.yandex.net/mystem/mystem-3.0-linux3.1-64bit.tar.gz\n"
          ],
          "name": "stderr"
        }
      ]
    },
    {
      "cell_type": "code",
      "metadata": {
        "id": "unQacAaRHbub",
        "colab_type": "code",
        "colab": {
          "base_uri": "https://localhost:8080/",
          "height": 34
        },
        "outputId": "7a9a5d5f-8354-4ffb-da3f-338ac4735cc8"
      },
      "source": [
        "print ('Значение для контекстов значения \"овощ\" : ' + str (disambiguate(vm, 'лук', context1a)) + ', ' +str (disambiguate(vm, 'лук', context1b)))"
      ],
      "execution_count": 18,
      "outputs": [
        {
          "output_type": "stream",
          "text": [
            "Значение для контекстов значения \"овощ\" : 1, 1\n"
          ],
          "name": "stdout"
        }
      ]
    },
    {
      "cell_type": "code",
      "metadata": {
        "id": "Jn_EhEb1Qf9X",
        "colab_type": "code",
        "colab": {
          "base_uri": "https://localhost:8080/",
          "height": 34
        },
        "outputId": "27064b1b-b4aa-46d7-af64-2464467e68f5"
      },
      "source": [
        "print ('Значение для контекстов значения \"оружие\" : ' + str (disambiguate(vm, 'лук', context2a)) + ', ' +str (disambiguate(vm, 'лук', context2b)))"
      ],
      "execution_count": 20,
      "outputs": [
        {
          "output_type": "stream",
          "text": [
            "Значение для контекстов значения \"оружие\" : 2, 2\n"
          ],
          "name": "stdout"
        }
      ]
    },
    {
      "cell_type": "markdown",
      "metadata": {
        "id": "6KaNLrs1Qmd7",
        "colab_type": "text"
      },
      "source": [
        "Ну, кажется, то что нужно!"
      ]
    },
    {
      "cell_type": "code",
      "metadata": {
        "id": "DOBS3xQbQsbF",
        "colab_type": "code",
        "colab": {
          "base_uri": "https://localhost:8080/",
          "height": 51
        },
        "outputId": "89eec6fb-da9f-4db0-9c18-35b5da16b58b"
      },
      "source": [
        "print ('Значение для толкования значения \"овощ\" : ' + str (disambiguate(vm, 'лук', tolk1)) + '\\nЗначение для толкования значения \"оружие\" : ' +str (disambiguate(vm, 'лук', tolk2)))"
      ],
      "execution_count": 28,
      "outputs": [
        {
          "output_type": "stream",
          "text": [
            "Значение для толкования значения \"овощ\" : 1\n",
            "Значение для толкования значения \"оружие\" : 5\n"
          ],
          "name": "stdout"
        }
      ]
    },
    {
      "cell_type": "markdown",
      "metadata": {
        "id": "UOVZYmVJR6RP",
        "colab_type": "text"
      },
      "source": [
        "Первое толкование правильно, а второе нет. По выдаче adagram видно, что слово \"оружие\" не является ключевым, однако контекст2b был обработан правильно. "
      ]
    },
    {
      "cell_type": "markdown",
      "metadata": {
        "id": "2znmEYfcbycV",
        "colab_type": "text"
      },
      "source": [
        "Пункт 4."
      ]
    },
    {
      "cell_type": "code",
      "metadata": {
        "id": "Bdkt23gBYbUz",
        "colab_type": "code",
        "colab": {}
      },
      "source": [
        "!wget https://github.com/sjut/HSE-Compling/raw/master/seminars/data/relations_with_concepts.csv"
      ],
      "execution_count": 0,
      "outputs": []
    },
    {
      "cell_type": "code",
      "metadata": {
        "id": "7-ydMYLvYf6c",
        "colab_type": "code",
        "colab": {}
      },
      "source": [
        "import csv\n",
        "\n",
        "rels_list = []\n",
        "with open(\"relations_with_concepts.csv\", newline='', encoding='utf8') as rels:\n",
        "    reader = csv.DictReader(rels, delimiter=\"\\t\")\n",
        "    for row in reader:\n",
        "        rels_list.append(row)\n",
        "\n",
        "\n",
        "def get_supc2(concept_list, rels_list, has_up=True, depth=0, max_depth=-1):\n",
        "    \"\"\"\n",
        "    Get list of all hypernym chains of the query\n",
        "    - up a level\n",
        "    - add all 'выше' concepts to list\n",
        "    [[level_1, level_2.1, level_3.1], [level_1, level_2.2, level_3.2], etc...]\n",
        "\n",
        "    :param concept_list: search input\n",
        "    :param rels_list: imported set of relations\n",
        "    :param max_depth: maximum allowed number of hypernyms\n",
        "    :param has_up: (internal) bool(current top concept has a superconcept)\n",
        "    :param depth: (internal) current depth in the ontology\n",
        "    :return: list of superconcept for every meaning of query\n",
        "    \"\"\"\n",
        "    new_cl = concept_list[:]\n",
        "    if (not has_up) or depth >= max_depth > 0:\n",
        "        return new_cl\n",
        "    has_up = False\n",
        "    for chain in concept_list:\n",
        "        index = new_cl.index(chain)\n",
        "        word = chain[-1]\n",
        "        for row in rels_list:\n",
        "            new_chain = chain[:]\n",
        "            if row['from'].lower() == word.lower() and row['relation'] == 'ВЫШЕ':\n",
        "                new_chain.append(row['to'].lower())\n",
        "                new_cl.insert(index + 1, new_chain)\n",
        "                has_up = True\n",
        "        if has_up:\n",
        "            new_cl.remove(chain)\n",
        "    return get_supc2(new_cl, rels_list, has_up, depth+1, max_depth)\n",
        "\n",
        "\n",
        "def get_supc(concept_list, rels_list, has_up=True, depth=0, max_depth=-1):\n",
        "    \"\"\"\n",
        "    Find list of all hypernyms of query by level down\n",
        "    [[level_1], [level_2.1, level_2.2], [level_3.1, level_3.2, level_3.3], etc...]\n",
        "\n",
        "    :param concept_list: search input\n",
        "    :param rels_list: imported set of relations\n",
        "    :param max_depth: maximum allowed number of hyponyms\n",
        "    :param has_up: (internal) bool(current top concept has a subconcept)\n",
        "    :param depth: (internal) current depth in the ontology\n",
        "    :return: list of subconcepts for every meaning of query\n",
        "    \"\"\"\n",
        "    if (not has_up) or depth >= max_depth > 0:\n",
        "        return concept_list\n",
        "    has_up = False\n",
        "    new_list = []\n",
        "    for word in concept_list[-1]:\n",
        "        for row in rels_list:\n",
        "            if row['from'].lower() == word.lower() and row['relation'] == 'ВЫШЕ':\n",
        "                if all(row['to'].lower() not in hypo for hypo in concept_list):\n",
        "                    new_list.append(row['to'].lower())\n",
        "                    has_up = True\n",
        "    if has_up:\n",
        "        concept_list.append(new_list)\n",
        "    return get_supc(concept_list, rels_list, has_up, depth + 1, max_depth)\n",
        "\n",
        "\n",
        "def get_subc2(concept_list, rels_list, has_down=True, depth=0, max_depth=-1):\n",
        "    \"\"\"\n",
        "    Get list of all hyponym chains for word in query\n",
        "    - down a level\n",
        "    - add all 'ниже' concepts to list\n",
        "    [[level_1, level_2.1, level_3.1], [level_1, level_2.2, level_3.2], etc...]\n",
        "\n",
        "    :param concept_list: search input\n",
        "    :param rels_list: imported set of relations\n",
        "    :param max_depth: maximum allowed number of hyponyms\n",
        "    :param has_down: (internal) bool(current top concept has a subconcept)\n",
        "    :param depth: (internal) current depth in the ontology\n",
        "    :return: list of subconcepts for every meaning of query\n",
        "    \"\"\"\n",
        "    new_cl = concept_list[:]\n",
        "    if (not has_down) or depth >= max_depth > 0:\n",
        "        return new_cl\n",
        "    for chain in concept_list:\n",
        "        has_down = False\n",
        "        index = new_cl.index(chain)\n",
        "        word = chain[-1]\n",
        "        for row in rels_list:\n",
        "            new_chain = chain[:]\n",
        "            if row['from'].lower() == word.lower() and row['relation'] == 'НИЖЕ':\n",
        "                new_chain.append(row['to'].lower())\n",
        "                new_cl.insert(index + 1, new_chain)\n",
        "                has_down = True\n",
        "        if has_down:\n",
        "            new_cl.remove(chain)\n",
        "    return get_subc2(new_cl, rels_list, has_down, depth+1, max_depth)\n",
        "\n",
        "\n",
        "def get_subc(concept_list, rels_list, has_down=True, depth=0, max_depth=-1):\n",
        "    \"\"\"\n",
        "    Find list of all hyponyms of query by level down\n",
        "    [[level_1], [level_2.1, level_2.2], [level_3.1, level_3.2, level_3.3], etc...]\n",
        "\n",
        "    :param concept_list: search input\n",
        "    :param rels_list: imported set of relations\n",
        "    :param max_depth: maximum allowed number of hyponyms\n",
        "    :param has_down: (internal) bool(current top concept has a subconcept)\n",
        "    :param depth: (internal) current depth in the ontology\n",
        "    :return: list of subconcepts for every meaning of query\n",
        "    \"\"\"\n",
        "    if (not has_down) or depth >= max_depth > 0:\n",
        "        return concept_list\n",
        "    has_down = False\n",
        "    new_list = []\n",
        "    for word in concept_list[-1]:\n",
        "        for row in rels_list:\n",
        "            if row['from'].lower() == word.lower() and row['relation'] == 'НИЖЕ':\n",
        "                if all(row['to'].lower() not in hypo for hypo in concept_list):\n",
        "                    new_list.append(row['to'].lower())\n",
        "                    has_down = True\n",
        "    if has_down:\n",
        "        concept_list.append(new_list)\n",
        "    return get_subc(concept_list, rels_list, has_down, depth+1, max_depth)"
      ],
      "execution_count": 0,
      "outputs": []
    },
    {
      "cell_type": "code",
      "metadata": {
        "id": "FTQ7yQ89Zr7A",
        "colab_type": "code",
        "colab": {
          "base_uri": "https://localhost:8080/",
          "height": 34
        },
        "outputId": "7b8c9d4c-74c7-4b46-90c4-a65e26669859"
      },
      "source": [
        "get_subc([['лук']], rels_list)"
      ],
      "execution_count": 43,
      "outputs": [
        {
          "output_type": "execute_result",
          "data": {
            "text/plain": [
              "[['лук']]"
            ]
          },
          "metadata": {
            "tags": []
          },
          "execution_count": 43
        }
      ]
    },
    {
      "cell_type": "code",
      "metadata": {
        "id": "QKL_kmcgYkVC",
        "colab_type": "code",
        "colab": {}
      },
      "source": [
        "get_subc([['растение']], rels_list)"
      ],
      "execution_count": 0,
      "outputs": []
    },
    {
      "cell_type": "code",
      "metadata": {
        "id": "gGQdonvzY6I7",
        "colab_type": "code",
        "colab": {
          "base_uri": "https://localhost:8080/",
          "height": 187
        },
        "outputId": "382579ce-1c04-4966-fb4e-fb1795b8d53c"
      },
      "source": [
        "get_subc2([['луковичное растение']], rels_list)"
      ],
      "execution_count": 42,
      "outputs": [
        {
          "output_type": "execute_result",
          "data": {
            "text/plain": [
              "[['луковичное растение', 'чеснок'],\n",
              " ['луковичное растение', 'лук (растение)', 'зеленый лук'],\n",
              " ['луковичное растение', 'лук (растение)', 'черемша'],\n",
              " ['луковичное растение', 'лук (растение)', 'лук-порей'],\n",
              " ['луковичное растение', 'лук (растение)', 'репчатый лук'],\n",
              " ['луковичное растение', 'крокус'],\n",
              " ['луковичное растение', 'подснежник'],\n",
              " ['луковичное растение', 'нарцисс'],\n",
              " ['луковичное растение', 'гиацинт (цветок)'],\n",
              " ['луковичное растение', 'тюльпан']]"
            ]
          },
          "metadata": {
            "tags": []
          },
          "execution_count": 42
        }
      ]
    },
    {
      "cell_type": "markdown",
      "metadata": {
        "id": "E4uoOeE1W9R-",
        "colab_type": "text"
      },
      "source": [
        "Если честно, я не совсем поняла п.4 из задания. Поэтому предложу метод, как мне кажется, о котором идет речь.\n",
        "\n",
        "1) Мы берем контекст с нужным словом\n",
        "\n",
        "2) Adagram выдает нам значение, в котором используется данное слово в этом предложении\n",
        "\n",
        "3) Мы смотрим на слова-соседи (так же с помощью adagram)\n",
        "\n",
        "4) Осуществляем поиск по тезариусу по нашему слову и ищем в его тезаурус_соседях слова_соседи_adagram\n",
        "\n",
        "5) Выявляем общее, смотрим, где эти соседи расположены относительно нашего слова (например, нас интересуют слова \"выше\": овощи, оружие, но не интересуют слова \"ниже\": лук-репка).\n",
        "\n",
        "6) Таким образом можно составить толкование (или соотнести с имеющимися, не знаю что нужно в задании)."
      ]
    },
    {
      "cell_type": "markdown",
      "metadata": {
        "id": "vgn9Ws_9b90-",
        "colab_type": "text"
      },
      "source": [
        "Пункт 5.\n",
        "\n",
        "Я опять немного запуталась в задании(( Но если я правильно поняла, accuracy для контекстов 100%, а для толкований 50%."
      ]
    }
  ]
}