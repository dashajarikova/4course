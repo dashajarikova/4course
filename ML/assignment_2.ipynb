{
  "nbformat": 4,
  "nbformat_minor": 0,
  "metadata": {
    "colab": {
      "name": "ass_2.ipynb",
      "provenance": []
    },
    "kernelspec": {
      "name": "python3",
      "display_name": "Python 3"
    }
  },
  "cells": [
    {
      "cell_type": "markdown",
      "metadata": {
        "id": "jwAkSEkVYVuA",
        "colab_type": "text"
      },
      "source": [
        "Demostrate consequences of No Free Lunch Theorem: every model of machine learning makes assumptions about dataset properties. If the assumption fails, model perfoms badly. If the assumption is met, model perfoms good.\n",
        "For each of the tasks, described below:\n",
        "create a dataset to meet the description. For demonstration purposes, feature dimension size = 2\n",
        "train the models and evaluate accuracy. (with a training pipeline, described in the seminar)\n",
        "Show which model is better.\n",
        "Write what assumptions were used, and why model exibits such behavior.\n",
        "Plot dataset to demonstrate its properties. (Scatter plot, classes with different colors)\n",
        "Tasks:\n",
        "Create dataset for binary classification task (binary crossentropy), where k-NN perfoms worse than logistic regression\n",
        "Create dataset for binary classification task (binary crossentropy), where logistic regression perfoms worse than k-NN\n",
        "Create dataset for binary classification task (binary crossentropy), where k-NN with cosine distance perfoms better than k-NN with euclidean distance\n",
        "! If there is no explanation, why one model perfoms better than the other on your dataset, the task does not count.\n",
        "! if the training pipeline is not used, the task does not count.\n"
      ]
    },
    {
      "cell_type": "code",
      "metadata": {
        "id": "WUH7Bt3AW-Uj",
        "colab_type": "code",
        "colab": {}
      },
      "source": [
        "import matplotlib.pyplot as plt\n",
        "import numpy as np\n",
        "import warnings\n",
        "from sklearn.model_selection import train_test_split\n",
        "from sklearn.linear_model import LogisticRegression\n",
        "from sklearn.model_selection import GridSearchCV\n",
        "from sklearn.neighbors import KNeighborsClassifier\n",
        "from sklearn.datasets import make_circles\n",
        "from sklearn.datasets import make_classification"
      ],
      "execution_count": 0,
      "outputs": []
    },
    {
      "cell_type": "code",
      "metadata": {
        "id": "P8Ib93WIYaXe",
        "colab_type": "code",
        "colab": {}
      },
      "source": [
        "#как было сказано в семинаре\n",
        "def model_pipeline(model, X, y, hyper_parametrs):\n",
        "  with warnings.catch_warnings():\n",
        "    warnings.simplefilter('ignore')\n",
        "    X_train, X_test, y_train, y_test = train_test_split(X, y, random_state=42)\n",
        "    model.fit(X_train, y_train)\n",
        "\n",
        "    valid = GridSearchCV(model, param_grid = hyper_parametrs, cv = 5)\n",
        "    valid.fit(X_train, y_train)\n",
        "\n",
        "    model = valid.best_estimator_\n",
        "    print (f\"Train : {model.score(X_train, y_train)} \\nAfter regularization: {valid.best_score_} \\nBest params: {valid.best_params_} \\nTest: {model.score(X_test, y_test)}\")  "
      ],
      "execution_count": 0,
      "outputs": []
    },
    {
      "cell_type": "markdown",
      "metadata": {
        "id": "2NQuFSeED45D",
        "colab_type": "text"
      },
      "source": [
        "**Задание 1**"
      ]
    },
    {
      "cell_type": "code",
      "metadata": {
        "id": "j_NHrlVS_yAg",
        "colab_type": "code",
        "outputId": "cc4658ed-c405-40cc-8147-18015d471ff7",
        "colab": {
          "base_uri": "https://localhost:8080/",
          "height": 298
        }
      },
      "source": [
        "plt.title(\"Задание\")\n",
        "#X1, Y1 = make_classification(n_samples=100, n_informative=2, n_redundant=0, n_features=2, n_classes=2, random_state=50)\n",
        "\n",
        "d1 = [(x, 2*x) for x in range(0, 100, 4)]\n",
        "d0 = [(x, z+10) for x, z in d1]\n",
        "X1 = np.array(d1+d0)\n",
        "Y1 = np.array([1 for i in range(25)] + [0 for i in range(25)])\n",
        "\n",
        "plt.scatter(X1[:, 0], X1[:, 1], c=Y1,\n",
        "            s=25, edgecolor='b')"
      ],
      "execution_count": 53,
      "outputs": [
        {
          "output_type": "execute_result",
          "data": {
            "text/plain": [
              "<matplotlib.collections.PathCollection at 0x7f96a8d07630>"
            ]
          },
          "metadata": {
            "tags": []
          },
          "execution_count": 53
        },
        {
          "output_type": "display_data",
          "data": {
            "image/png": "[encoded data removed]",
            "text/plain": [
              "<Figure size 432x288 with 1 Axes>"
            ]
          },
          "metadata": {
            "tags": []
          }
        }
      ]
    },
    {
      "cell_type": "code",
      "metadata": {
        "id": "TqMp-Uz3_1bo",
        "colab_type": "code",
        "colab": {}
      },
      "source": [
        "params_logreg = {'dual' : [True, False], 'C': np.arange(.01,1,.01), 'solver' : ['liblinear']}"
      ],
      "execution_count": 0,
      "outputs": []
    },
    {
      "cell_type": "code",
      "metadata": {
        "id": "35w1MP-b_4UW",
        "colab_type": "code",
        "outputId": "ff0826ba-1780-48d8-cd13-e7b973d401c2",
        "colab": {
          "base_uri": "https://localhost:8080/",
          "height": 85
        }
      },
      "source": [
        "model_pipeline(LogisticRegression(), X1, Y1, params_logreg)"
      ],
      "execution_count": 31,
      "outputs": [
        {
          "output_type": "stream",
          "text": [
            "Train : 1.0 \n",
            "After regularization: 1.0 \n",
            "Best params: {'C': 0.01, 'dual': True, 'solver': 'liblinear'} \n",
            "Test: 1.0\n"
          ],
          "name": "stdout"
        }
      ]
    },
    {
      "cell_type": "code",
      "metadata": {
        "id": "JRQkPJ3OEFv0",
        "colab_type": "code",
        "colab": {}
      },
      "source": [
        "paramsKNN = {'n_neighbors': range(1, 10), 'weights' : ['uniform', 'distance'], 'algorithm' : ['auto', 'ball_tree', 'kd_tree', 'brute']}"
      ],
      "execution_count": 0,
      "outputs": []
    },
    {
      "cell_type": "code",
      "metadata": {
        "id": "rT0gHd9OEI0_",
        "colab_type": "code",
        "colab": {
          "base_uri": "https://localhost:8080/",
          "height": 85
        },
        "outputId": "928f0512-6e8d-4092-e95e-44427d0c49c8"
      },
      "source": [
        "model_pipeline(KNeighborsClassifier(), X1, Y1, paramsKNN)"
      ],
      "execution_count": 33,
      "outputs": [
        {
          "output_type": "stream",
          "text": [
            "Train : 0.8378378378378378 \n",
            "After regularization: 0.6857142857142857 \n",
            "Best params: {'algorithm': 'auto', 'n_neighbors': 5, 'weights': 'uniform'} \n",
            "Test: 0.3076923076923077\n"
          ],
          "name": "stdout"
        }
      ]
    },
    {
      "cell_type": "markdown",
      "metadata": {
        "id": "03IKXXVUGdlv",
        "colab_type": "text"
      },
      "source": [
        "Логистическая регрессия работает хорошо, потому что значения идеально разделяются по прямой . K-NN работает хуже, потому что точки расположены близко друг к другу."
      ]
    },
    {
      "cell_type": "markdown",
      "metadata": {
        "id": "Vxm0gUSgHlbC",
        "colab_type": "text"
      },
      "source": [
        "**Задание 2**"
      ]
    },
    {
      "cell_type": "code",
      "metadata": {
        "id": "AG8QfSvXG9Y6",
        "colab_type": "code",
        "colab": {}
      },
      "source": [
        "X, y = make_circles(factor=0.5, random_state=50, noise=0.05)"
      ],
      "execution_count": 0,
      "outputs": []
    },
    {
      "cell_type": "code",
      "metadata": {
        "id": "s1OHeiuHHz3v",
        "colab_type": "code",
        "colab": {
          "base_uri": "https://localhost:8080/",
          "height": 298
        },
        "outputId": "0c4597c8-b18f-46c9-9977-f86c46091b71"
      },
      "source": [
        "plt.title(\"Задание 2\")\n",
        "plt.scatter(X[:, 0], X[:, 1], c=y, s=50, edgecolor='b')"
      ],
      "execution_count": 9,
      "outputs": [
        {
          "output_type": "execute_result",
          "data": {
            "text/plain": [
              "<matplotlib.collections.PathCollection at 0x7f96a911f898>"
            ]
          },
          "metadata": {
            "tags": []
          },
          "execution_count": 9
        },
        {
          "output_type": "display_data",
          "data": {
            "image/png": "[encoded data removed]",
            "text/plain": [
              "<Figure size 432x288 with 1 Axes>"
            ]
          },
          "metadata": {
            "tags": []
          }
        }
      ]
    },
    {
      "cell_type": "code",
      "metadata": {
        "id": "iu_KJD3NH7aB",
        "colab_type": "code",
        "colab": {
          "base_uri": "https://localhost:8080/",
          "height": 85
        },
        "outputId": "4dbedb82-9178-42e8-d2ba-b6f23e74458b"
      },
      "source": [
        "model_pipeline(LogisticRegression(), X, y, params_logreg)"
      ],
      "execution_count": 10,
      "outputs": [
        {
          "output_type": "stream",
          "text": [
            "Train : 0.5333333333333333 \n",
            "After regularization: 0.5333333333333333 \n",
            "Best params: {'C': 0.01, 'dual': True, 'solver': 'liblinear'} \n",
            "Test: 0.4\n"
          ],
          "name": "stdout"
        }
      ]
    },
    {
      "cell_type": "code",
      "metadata": {
        "id": "pIaKtNY4H-hw",
        "colab_type": "code",
        "colab": {
          "base_uri": "https://localhost:8080/",
          "height": 85
        },
        "outputId": "f819143d-6706-4a85-d25e-788edce807a5"
      },
      "source": [
        "model_pipeline(KNeighborsClassifier(), X, y, paramsKNN)"
      ],
      "execution_count": 11,
      "outputs": [
        {
          "output_type": "stream",
          "text": [
            "Train : 1.0 \n",
            "After regularization: 1.0 \n",
            "Best params: {'algorithm': 'auto', 'n_neighbors': 2} \n",
            "Test: 0.96\n"
          ],
          "name": "stdout"
        }
      ]
    },
    {
      "cell_type": "markdown",
      "metadata": {
        "id": "PeRkvbxPIFnt",
        "colab_type": "text"
      },
      "source": [
        "А здесь логистическая регрессия работает плохо, потому что нельзя разделить на два класса прямой. А соседи наоборот хорошо, потому что данные по классам близко друг к другу."
      ]
    },
    {
      "cell_type": "markdown",
      "metadata": {
        "id": "YOAUR7mzIbg6",
        "colab_type": "text"
      },
      "source": [
        "**Задание 3**"
      ]
    },
    {
      "cell_type": "code",
      "metadata": {
        "id": "o82Fc0_VIVRJ",
        "colab_type": "code",
        "colab": {}
      },
      "source": [
        "N = 100\n",
        "x = np.arange(0,N//2)\n",
        "X1 = np.array([(x[i], 0) for i in range(0,N//2)])\n",
        "X2 = np.array([(x[i], np.random.randint(1, 10, 1)[0]) for i in range(0, N//2)])\n",
        "X3 = np.append(X1,X2, axis=0)"
      ],
      "execution_count": 0,
      "outputs": []
    },
    {
      "cell_type": "code",
      "metadata": {
        "id": "nb_nzlPcMT-_",
        "colab_type": "code",
        "colab": {}
      },
      "source": [
        "Y3 = np.array([0 if i < N//2 else 1 for i in range(N)])"
      ],
      "execution_count": 0,
      "outputs": []
    },
    {
      "cell_type": "code",
      "metadata": {
        "id": "HRDUDY2MMXTs",
        "colab_type": "code",
        "colab": {
          "base_uri": "https://localhost:8080/",
          "height": 298
        },
        "outputId": "71e550e2-2698-4515-cf6a-d5cf46e45817"
      },
      "source": [
        "plt.title('Задание 3')\n",
        "plt.scatter([el[0] for el in X3],[el[1] for el in X3],\n",
        "            c=['red' if el == 1 else 'blue' for el in Y3])"
      ],
      "execution_count": 73,
      "outputs": [
        {
          "output_type": "execute_result",
          "data": {
            "text/plain": [
              "<matplotlib.collections.PathCollection at 0x7f96a88db550>"
            ]
          },
          "metadata": {
            "tags": []
          },
          "execution_count": 73
        },
        {
          "output_type": "display_data",
          "data": {
            "image/png": "[encoded data removed]",
            "text/plain": [
              "<Figure size 432x288 with 1 Axes>"
            ]
          },
          "metadata": {
            "tags": []
          }
        }
      ]
    },
    {
      "cell_type": "code",
      "metadata": {
        "id": "R2ByUjjPMn5M",
        "colab_type": "code",
        "colab": {
          "base_uri": "https://localhost:8080/",
          "height": 85
        },
        "outputId": "89710f38-e7d3-47d0-e27d-6fb3a1af1568"
      },
      "source": [
        "model_pipeline(KNeighborsClassifier(metric=\"euclidean\"), X3, Y3, paramsKNN)"
      ],
      "execution_count": 74,
      "outputs": [
        {
          "output_type": "stream",
          "text": [
            "Train : 1.0 \n",
            "After regularization: 0.9066666666666666 \n",
            "Best params: {'algorithm': 'auto', 'n_neighbors': 1, 'weights': 'uniform'} \n",
            "Test: 0.84\n"
          ],
          "name": "stdout"
        }
      ]
    },
    {
      "cell_type": "code",
      "metadata": {
        "id": "ZpUPR--tAbGk",
        "colab_type": "code",
        "colab": {
          "base_uri": "https://localhost:8080/",
          "height": 85
        },
        "outputId": "a8b8402c-5ed9-4a45-c5b1-f5927b4e4f36"
      },
      "source": [
        "model_pipeline(KNeighborsClassifier(metric=\"cosine\"), X3, Y3, {'n_neighbors': range(1, 10)})"
      ],
      "execution_count": 75,
      "outputs": [
        {
          "output_type": "stream",
          "text": [
            "Train : 1.0 \n",
            "After regularization: 0.9866666666666667 \n",
            "Best params: {'n_neighbors': 1} \n",
            "Test: 1.0\n"
          ],
          "name": "stdout"
        }
      ]
    },
    {
      "cell_type": "markdown",
      "metadata": {
        "id": "BWow_knMDzRo",
        "colab_type": "text"
      },
      "source": [
        "Евклидо метрика смотрит на конкертное расстрояние, а косинусная близость - на напрвление векторов => чтобы евклидово расстояние работало хуже, нам нужны данные, где расстояние между значениями не играет роли. Например, как показано на графике. "
      ]
    }
  ]
}